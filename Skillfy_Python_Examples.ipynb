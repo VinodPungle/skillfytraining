{
  "nbformat": 4,
  "nbformat_minor": 0,
  "metadata": {
    "colab": {
      "provenance": [],
      "authorship_tag": "ABX9TyO3upeRsVmi0k7iq1TCi1Kp",
      "include_colab_link": true
    },
    "kernelspec": {
      "name": "python3",
      "display_name": "Python 3"
    },
    "language_info": {
      "name": "python"
    }
  },
  "cells": [
    {
      "cell_type": "markdown",
      "metadata": {
        "id": "view-in-github",
        "colab_type": "text"
      },
      "source": [
        "<a href=\"https://colab.research.google.com/github/VinodPungle/skillfytraining/blob/main/Skillfy_Python_Examples.ipynb\" target=\"_parent\"><img src=\"https://colab.research.google.com/assets/colab-badge.svg\" alt=\"Open In Colab\"/></a>"
      ]
    },
    {
      "cell_type": "code",
      "execution_count": null,
      "metadata": {
        "id": "IDtX6AP4lThl"
      },
      "outputs": [],
      "source": []
    },
    {
      "cell_type": "code",
      "execution_count": null,
      "metadata": {
        "colab": {
          "base_uri": "https://localhost:8080/"
        },
        "id": "zsQjmQiDmUsU",
        "outputId": "d89f3c0b-8fbd-4a7a-f584-0ebb522501e8"
      },
      "outputs": [
        {
          "output_type": "stream",
          "name": "stdout",
          "text": [
            "2\n",
            "<class 'int'>\n"
          ]
        }
      ],
      "source": [
        "# python in-built datatypes -->\n",
        "\n",
        "# here you are understanding the different characters of python\n",
        "\n",
        "# how does python know--> what variable holds what kinds of data--> what operations can be performed on the data\n",
        "\n",
        "a=2\n",
        "print(a)\n",
        "print(type(a))\n",
        "\n",
        "# integer"
      ]
    },
    {
      "cell_type": "code",
      "source": [
        "# in the above what is print --> function , type--> function --\n",
        "# block of re-useable code --> that performs a specific task\n",
        "# opyton is also syntax based programming-->\n"
      ],
      "metadata": {
        "id": "PUkPnvBRpi5X"
      },
      "execution_count": null,
      "outputs": []
    },
    {
      "cell_type": "code",
      "source": [
        "# to create a program that takes two inputs a and b prnits a+b and a*b\n",
        "\n",
        "# 08:58--> 09:01\n",
        "# in python there are inbuilt operations which you can perform on datatypes -->\n",
        "a=5.14\n",
        "b=5\n",
        "print(a+b)\n",
        "print(a*b)\n",
        "\n",
        "# can you also add to this a divide by b and a to the power b\n",
        "\n",
        "print(a/b)\n",
        "print(a**b)\n",
        "print(a-b)\n",
        "print(type(a))\n",
        "\n",
        "# the first datatype in python is numbers : integers, floats, hex, binary, complex,etc"
      ],
      "metadata": {
        "colab": {
          "base_uri": "https://localhost:8080/"
        },
        "id": "0oxdKtPhrOTJ",
        "outputId": "d8023993-77bd-4261-8204-9452d6bd0db7"
      },
      "execution_count": null,
      "outputs": [
        {
          "output_type": "stream",
          "name": "stdout",
          "text": [
            "10.14\n",
            "25.7\n",
            "1.028\n",
            "3587.695657782399\n",
            "0.13999999999999968\n",
            "<class 'float'>\n"
          ]
        }
      ]
    },
    {
      "cell_type": "code",
      "source": [
        "# we can convert numbers\n",
        "\n",
        "a = 5\n",
        "print(a)\n",
        "print(float(a))\n",
        "\n",
        "b = 5.9\n",
        "print(b)\n",
        "print(int(b))\n",
        "\n",
        "print(complex(a))"
      ],
      "metadata": {
        "colab": {
          "base_uri": "https://localhost:8080/"
        },
        "id": "OHAtUYXUuW2k",
        "outputId": "f4fc01bd-2a80-420a-c393-32f775d030fa"
      },
      "execution_count": null,
      "outputs": [
        {
          "output_type": "stream",
          "name": "stdout",
          "text": [
            "5\n",
            "5.0\n",
            "5.9\n",
            "5\n",
            "(5+0j)\n"
          ]
        }
      ]
    },
    {
      "cell_type": "code",
      "source": [
        "# write a program which returns the integer part of number when a/b\n",
        "# write a program which returns only the decimal of a/b\n",
        "# write the prgram which returns the nearest integer when a/b\n",
        "# write the program which returns (ceil)the higher integer when a/b\n",
        "\n",
        "# working break ---> 09:17--> 09:30\n"
      ],
      "metadata": {
        "id": "thKv8HUZvRRm"
      },
      "execution_count": null,
      "outputs": []
    },
    {
      "cell_type": "code",
      "metadata": {
        "colab": {
          "base_uri": "https://localhost:8080/"
        },
        "id": "67d87afb",
        "outputId": "95c1662e-bc77-4504-de0b-866b6faf49fc"
      },
      "source": [
        "# program to return the integer part of a/b\n",
        "a = 10\n",
        "b = 3\n",
        "integer_part = a // b\n",
        "print(f\"The integer part of {a}/{b} is: {integer_part}\")\n",
        "\n",
        "# You can use the existing variables a and b from the notebook as well\n",
        "# integer_part_existing = a // b\n",
        "# print(f\"The integer part of existing a/b is: {integer_part_existing}\")"
      ],
      "execution_count": null,
      "outputs": [
        {
          "output_type": "stream",
          "name": "stdout",
          "text": [
            "The integer part of 10/3 is: 3\n"
          ]
        }
      ]
    },
    {
      "cell_type": "code",
      "source": [
        "# prompt: # write a program which returns only the decimal of a/b\n",
        "\n",
        "a = 10\n",
        "b = 3\n",
        "\n",
        "# Calculate the integer part using floor division\n",
        "integer_part = a // b\n",
        "\n",
        "# Subtract the integer part from the full division result to get the decimal part\n",
        "decimal_part = (a / b) - integer_part\n",
        "\n",
        "print(f\"The decimal part of {a}/{b} is: {decimal_part}\")"
      ],
      "metadata": {
        "colab": {
          "base_uri": "https://localhost:8080/"
        },
        "id": "7AuwVGuDzk2d",
        "outputId": "a7e2da7e-4b99-4dc3-ec79-95420a5a0208"
      },
      "execution_count": null,
      "outputs": [
        {
          "output_type": "stream",
          "name": "stdout",
          "text": [
            "The decimal part of 10/3 is: 0.3333333333333335\n"
          ]
        }
      ]
    },
    {
      "cell_type": "code",
      "source": [
        "# prompt: # write the prgram which returns the nearest integer when a/b\n",
        "\n",
        "import math\n",
        "\n",
        "a = 10\n",
        "b = 4.15\n",
        "\n",
        "# Calculate the result of a/b\n",
        "division_result = a / b\n",
        "\n",
        "# Use round() to get the nearest integer\n",
        "nearest_integer = round(division_result)\n",
        "print(a/b)\n",
        "print(f\"The nearest integer when {a}/{b} is: {nearest_integer}\")"
      ],
      "metadata": {
        "colab": {
          "base_uri": "https://localhost:8080/"
        },
        "id": "Lz8pAysizrpO",
        "outputId": "8dd36380-9255-48d9-eb24-41c8f7f978dc"
      },
      "execution_count": null,
      "outputs": [
        {
          "output_type": "stream",
          "name": "stdout",
          "text": [
            "2.4096385542168672\n",
            "The nearest integer when 10/4.15 is: 2\n"
          ]
        }
      ]
    },
    {
      "cell_type": "code",
      "source": [
        "# prompt: # write the program which returns (ceil)the higher integer when a/b\n",
        "\n",
        "a = 10\n",
        "b = 3\n",
        "import math\n",
        "division_result = a / b\n",
        "higher_integer = math.ceil(division_result)\n",
        "print(f\"The higher integer (ceil) when {a}/{b} is: {higher_integer}\")"
      ],
      "metadata": {
        "colab": {
          "base_uri": "https://localhost:8080/"
        },
        "id": "SJ1OMegS0BH7",
        "outputId": "ae22932d-6f1e-4abf-9959-15de06a487aa"
      },
      "execution_count": null,
      "outputs": [
        {
          "output_type": "stream",
          "name": "stdout",
          "text": [
            "The higher integer (ceil) when 10/3 is: 4\n"
          ]
        }
      ]
    },
    {
      "cell_type": "code",
      "source": [
        "# next datatypes : Boolean\n",
        "\n",
        "# its variable can contain True or False\n",
        "\n",
        "a = False\n",
        "\n",
        "print(type(a))\n",
        "\n",
        "# because in python , it understands comparison operators\n",
        "\n",
        "print(10 > 9)\n",
        "\n",
        "print(10 == 9)\n",
        "\n",
        "print(10 < 9)\n",
        "print(10!=10) # ! not"
      ],
      "metadata": {
        "colab": {
          "base_uri": "https://localhost:8080/"
        },
        "id": "VVnBfUQ_0VtY",
        "outputId": "b4da9cbe-f8b7-4a18-d9ef-df89c6a79f03"
      },
      "execution_count": null,
      "outputs": [
        {
          "output_type": "stream",
          "name": "stdout",
          "text": [
            "<class 'bool'>\n",
            "True\n",
            "False\n",
            "False\n",
            "False\n"
          ]
        }
      ]
    },
    {
      "cell_type": "code",
      "source": [
        "# create a variable x and y with some values\n",
        "\n",
        "#  check if x =y , x>y  or x <= y\n",
        "\n",
        "# create a variable x and y with some values\n",
        "x=int(input(\"x =\"))\n",
        "y=int(input(\"y= \"))\n",
        "#  check if x =y , x>y  or x <= y\n",
        "print(x==y)\n",
        "print(x>y)\n",
        "print(x<=y)"
      ],
      "metadata": {
        "id": "txQGOKYB1VGO"
      },
      "execution_count": null,
      "outputs": []
    },
    {
      "cell_type": "code",
      "source": [
        "# strings -->\n",
        "# the syntax--> strings --> a sequnce of characters in single quotes ('') or double quotes (\"\") or tiple quotes (''' \"\"\"\")\n",
        "\n",
        "\n",
        "a = \"AJ\"\n",
        "print(a)\n",
        "print(type(a))"
      ],
      "metadata": {
        "id": "KAqMAyFP2rqP"
      },
      "execution_count": null,
      "outputs": []
    },
    {
      "cell_type": "code",
      "source": [
        "# create a string using single quote\n",
        "\n",
        "a = '''heloo'''\n",
        "print(a)\n",
        "print(type(a))"
      ],
      "metadata": {
        "id": "Ybj0pj5n3W9g"
      },
      "execution_count": null,
      "outputs": []
    },
    {
      "cell_type": "code",
      "source": [
        "# write a string which runs into multiline\n",
        "\n",
        "a = \"hello\n",
        "AJ\"\n",
        "print(a)"
      ],
      "metadata": {
        "id": "hMRn-7qX3jR2"
      },
      "execution_count": null,
      "outputs": []
    },
    {
      "cell_type": "code",
      "source": [
        "multiline_string = \"\"\"This is a string\n",
        "that spans across\n",
        "multiple lines.\"\"\"\n",
        "print(multiline_string)"
      ],
      "metadata": {
        "id": "3zGeB3Bs3zIo"
      },
      "execution_count": null,
      "outputs": []
    },
    {
      "cell_type": "code",
      "source": [
        "# esc b , # ctrl+ enter --> google colab\n",
        "# try string operatiores -- a , b --> a+b , a*3 ,\n",
        "a = \"hello\"\n",
        "b = \"world\"\n",
        "# Concatenation\n",
        "concatenated_string = a + \" \" + b\n",
        "print(f\"Concatenation: {concatenated_string}\")\n",
        "# Repetition\n",
        "repeated_string = a * 3\n",
        "print(repeated_string)"
      ],
      "metadata": {
        "id": "-xk9qZ5o4Cy-"
      },
      "execution_count": null,
      "outputs": []
    },
    {
      "cell_type": "code",
      "source": [
        "# slicing and indexing\n",
        "\n",
        "a = \"Hello world\"\n",
        "\n",
        "print(len(a))"
      ],
      "metadata": {
        "id": "ggJ-qE-M5mfG"
      },
      "execution_count": null,
      "outputs": []
    },
    {
      "cell_type": "code",
      "source": [
        "# in pyuthon indexing starts from zero\n",
        "\n",
        "print(a[0])\n",
        "\n",
        "# to print using index the letter w"
      ],
      "metadata": {
        "id": "3TYTMRyq55oE"
      },
      "execution_count": null,
      "outputs": []
    },
    {
      "cell_type": "code",
      "source": [
        "print(a[6])"
      ],
      "metadata": {
        "id": "_hoF9C7q7IQF"
      },
      "execution_count": null,
      "outputs": []
    },
    {
      "cell_type": "code",
      "source": [
        "# prompt: find the index number of w in a and print it\n",
        "\n",
        "print(a.index('o'))"
      ],
      "metadata": {
        "id": "BfKMfLlt7LWu"
      },
      "execution_count": null,
      "outputs": []
    },
    {
      "cell_type": "code",
      "source": [
        "# indexing also works in reverse--> -1\n",
        "\n",
        "print(a[-1])"
      ],
      "metadata": {
        "id": "EzogxwGn7WPO"
      },
      "execution_count": null,
      "outputs": []
    },
    {
      "cell_type": "code",
      "source": [
        "# slicing --> print all the letters in\n",
        "\n",
        "\n",
        "a = \"Hello world\"\n",
        "\n",
        "print(a[1:7])"
      ],
      "metadata": {
        "id": "yV1eCQ6Y7ekO"
      },
      "execution_count": null,
      "outputs": []
    },
    {
      "cell_type": "code",
      "source": [
        "my_string = \"hello world\"\n",
        "# Print the first 'l' (at index 2)\n",
        "print(f\"First 'l': {my_string[2]}\")\n",
        "# Print the last 'l' (at index 9)\n",
        "print(f\"Last 'l': {my_string[9]}\")\n",
        "# Print characters with a step of 2\n",
        "print(f\"Characters with a step of 2: {my_string[::2]}\")\n"
      ],
      "metadata": {
        "id": "TIvphE-57_8y"
      },
      "execution_count": null,
      "outputs": []
    },
    {
      "cell_type": "code",
      "source": [
        "#\n",
        "\n",
        "print(a)\n",
        "\n",
        "print(a[2])\n",
        "\n",
        "a[2]='m'\n",
        "print(a)\n",
        "\n",
        "# strings are immutable datatypes"
      ],
      "metadata": {
        "id": "E4YTkX3T993c"
      },
      "execution_count": null,
      "outputs": []
    },
    {
      "cell_type": "code",
      "source": [
        "#"
      ],
      "metadata": {
        "id": "71MMpKhj95Ru"
      },
      "execution_count": null,
      "outputs": []
    },
    {
      "cell_type": "code",
      "source": [
        "Method\tDescription\tExample\n",
        "upper()\tConverts to uppercase\t\"hi\".upper() → 'HI'\n",
        "lower()\tConverts to lowercase\t\"HI\".lower() → 'hi'\n",
        "capitalize()\tCapitalizes first letter\t\"hello\".capitalize()\n",
        "strip()\tRemoves spaces from ends\t\" hi \".strip()\n",
        "replace(old, new)\tReplace substring\t\"hat\".replace(\"h\", \"c\")\n",
        "split()\tSplits string into list\t\"a,b,c\".split(\",\")\n",
        "join()\tJoins elements with string separator\t\",\".join(['a','b'])\n",
        "find()\tFinds index of substring\t\"hello\".find(\"l\")\n",
        "count()\tCounts occurrences of substring\t\"hello\".count(\"l\")\n",
        "\n",
        "# use the above methods , and run the code, share with me , AI for the same\n",
        "\n",
        "# 10:23--> 10:33 --> please finish the above\n"
      ],
      "metadata": {
        "id": "oOaY1UJx-Vzw"
      },
      "execution_count": null,
      "outputs": []
    },
    {
      "cell_type": "code",
      "source": [
        "my_string = \"hello world\"\n",
        "print(my_string.upper())"
      ],
      "metadata": {
        "id": "YOxaVkUv-wgX"
      },
      "execution_count": null,
      "outputs": []
    },
    {
      "cell_type": "code",
      "source": [
        "# prompt: Create codes for following:\n",
        "# upper()\tConverts to uppercase\t\"hi\".upper() → 'HI'\n",
        "# lower()\tConverts to lowercase\t\"HI\".lower() → 'hi'\n",
        "# capitalize()\tCapitalizes first letter\t\"hello\".capitalize()\n",
        "# strip()\tRemoves spaces from ends\t\" hi \".strip()\n",
        "# replace(old, new)\tReplace substring\t\"hat\".replace(\"h\", \"c\")\n",
        "# split()\tSplits string into list\t\"a,b,c\".split(\",\")\n",
        "# join()\tJoins elements with string separator\t\",\".join(['a','b'])\n",
        "# find()\tFinds index of substring\t\"hello\".find(\"l\")\n",
        "# count()\tCounts occurrences of substring\t\"hello\".count(\"l\")\n",
        "\n",
        "# Demonstrate string methods based on the provided table\n",
        "my_string = \"  Hello World!  \"\n",
        "print(f\"Original string: '{my_string}'\")\n",
        "\n",
        "# upper()\n",
        "print(f\"upper(): '{my_string.upper()}'\")\n",
        "\n",
        "# lower()\n",
        "print(f\"lower(): '{my_string.lower()}'\")\n",
        "\n",
        "# capitalize() - applied to a string variable\n",
        "example_string = \"hello\"\n",
        "print(f\"capitalize() on 'hello': '{example_string.capitalize()}'\")\n",
        "\n",
        "# strip()\n",
        "print(f\"strip(): '{my_string.strip()}'\")\n",
        "\n",
        "# replace(old, new)\n",
        "replace_example = \"hat\"\n",
        "print(f\"replace('h', 'c') on 'hat': '{replace_example.replace('h', 'c')}'\")\n",
        "\n",
        "# split()\n",
        "split_example = \"apple,banana,cherry\"\n",
        "print(f\"split(','): {split_example.split(',')}\")\n",
        "\n",
        "# join()\n",
        "join_example = ['a','b','c']\n",
        "print(f\"','.join(['a','b','c']): '{','.join(join_example)}'\")\n",
        "\n",
        "# find()\n",
        "find_example = \"hello\"\n",
        "print(f\"find('l') on 'hello': {find_example.find('l')}\")\n",
        "print(f\"find('z') on 'hello': {find_example.find('z')}\") # Demonstrates not found\n",
        "\n",
        "# count()\n",
        "count_example = \"hello world hello\"\n",
        "print(f\"count('l') on 'hello world hello': {count_example.count('l')}\")\n",
        "print(f\"count('hello') on 'hello world hello': {count_example.count('hello')}\")"
      ],
      "metadata": {
        "id": "jn_6rnYMBjnj"
      },
      "execution_count": null,
      "outputs": []
    },
    {
      "cell_type": "code",
      "source": [
        "# next datatype: list  , [] --> elements , and these elements any datatype\n",
        "\n",
        "a = [2,3,4]\n",
        "\n",
        "print(type(a))\n",
        "\n",
        "\n",
        "# create a list which contains a integer, a float and a string\n",
        "b = [2, 3.14 , \"AK\"]\n",
        "\n",
        "print(type(b))"
      ],
      "metadata": {
        "id": "YQwynsJLCeh_"
      },
      "execution_count": null,
      "outputs": []
    },
    {
      "cell_type": "code",
      "source": [
        "# indexing also works with list,\n",
        "\n",
        "# create a list which contains a integer, a float and a string and a list\n",
        "\n",
        "b = [2, 3.14 , \"AK\", [5,67,2]]\n",
        "print(type(b))\n",
        "\n",
        "# do the indexing in list, it starts from zero, print all the elements in list using indexing\n",
        "\n",
        "print(b[0])\n",
        "print(b[1])\n",
        "print(b[2])\n",
        "print(b[3][1]) # double indexing\n"
      ],
      "metadata": {
        "id": "enNQDOQnDsyk"
      },
      "execution_count": null,
      "outputs": []
    },
    {
      "cell_type": "code",
      "source": [
        "# convert 2 into 6.14 in the list b using indexing\n",
        "# tell the type of index 1 in the list\n",
        "print(b)\n",
        "b[0]=6.14\n",
        "print(type(b[1]))\n",
        "print(b)\n",
        "\n",
        "# we have mutated the list -->\n",
        "# list are mutable datatypres"
      ],
      "metadata": {
        "id": "CDvoJMrZE-hZ"
      },
      "execution_count": null,
      "outputs": []
    },
    {
      "cell_type": "code",
      "source": [
        "# to summarize -->\n",
        "\n",
        "# python --> install python , anaconda, VS code -->\n",
        "\n",
        "# python datatypes: numbers, strings, list , boolean\n",
        "\n",
        "# python datatypes: tuples, dictionary, Set\n",
        "\n",
        "# functions -print, type, len, methods in strings"
      ],
      "metadata": {
        "id": "5RmKibAvFyJM"
      },
      "execution_count": null,
      "outputs": []
    },
    {
      "cell_type": "code",
      "source": [
        "# git ---> versioning tool --> push these codes --> github--# bookmark the links,"
      ],
      "metadata": {
        "id": "A89aYRaVGXyn"
      },
      "execution_count": null,
      "outputs": []
    },
    {
      "cell_type": "code",
      "source": [
        "# python --> 4 sessions\n",
        "# mlops tools: ML, git, dvc, mlflow, flask, streamlitb"
      ],
      "metadata": {
        "id": "XvnHFQg2HqxC"
      },
      "execution_count": null,
      "outputs": []
    },
    {
      "cell_type": "code",
      "source": [
        "# tuples - list --> also contain any other datatypes ==> [] , ()\n",
        "\n",
        "a = (1,2,3)\n",
        "\n",
        "print(a)\n",
        "print(type(a))\n",
        "\n"
      ],
      "metadata": {
        "id": "h9kEpwc7pOdF"
      },
      "execution_count": null,
      "outputs": []
    },
    {
      "cell_type": "code",
      "source": [
        "# creat a tuple which ciontaines three elemts of strings\n",
        "\n",
        "# create a tuple which contains a string, float, and an integer\n",
        "mixed_tuple = (\"hello\", 3.14, 10)\n",
        "print(mixed_tuple)\n",
        "print(type(mixed_tuple))\n",
        "\n",
        "my_tuple = (\"string1\", \"string2\", \"string3\")\n",
        "print(my_tuple)\n",
        "my_mix_tuple = (\"string1\", 2, 1.1)\n",
        "print(my_mix_tuple)"
      ],
      "metadata": {
        "id": "4cwsu7SYp-2Z"
      },
      "execution_count": null,
      "outputs": []
    },
    {
      "cell_type": "code",
      "source": [
        "# list --> change theh elements\n",
        "\n",
        "# similar to list can you try item assignmetn --> 6\n",
        "my_tuple = (\"string1\", \"string2\", \"string3\")\n",
        "print(my_tuple)\n",
        "\n",
        "my_tuple[1]= 6\n",
        "\n",
        "# what is the datatype of tyuple : mutable or immutable\n"
      ],
      "metadata": {
        "id": "_LlesQojq_qV"
      },
      "execution_count": null,
      "outputs": []
    },
    {
      "cell_type": "code",
      "source": [
        "# create a tuple and convert it into a list --. function\n",
        "\n",
        "# create a list and convert it into a tuple -- function\n",
        "\n",
        "# t= (1,2,3,4) --> use indexing to get the element 3\n",
        "\n",
        "# extract from t the elements 2,3\n",
        "\n",
        "# tuple operations: create two tuples and add them\n",
        "# create a tuple and multiply them three times\n",
        "#t = (1,2,3) use a function to find if 2 is present in t\n",
        "\n",
        "# length of t\n",
        "\n",
        "# t = (1,2,2,3) count numnber of 2 in t\n",
        "# give the index number of 2 in t\n",
        "\n",
        "08:28--> 08:38"
      ],
      "metadata": {
        "id": "r2n16C6esu0m"
      },
      "execution_count": null,
      "outputs": []
    },
    {
      "cell_type": "code",
      "source": [
        "# prompt: create a list and convert to tuple\n",
        "\n",
        "my_list = [1, 2, 3, 4, 5]\n",
        "my_tuple = tuple(my_list)\n",
        "print(my_list)\n",
        "print(my_tuple)\n",
        "print(type(my_list))\n",
        "print(type(my_tuple))"
      ],
      "metadata": {
        "id": "Kcm3SEDWxYaW"
      },
      "execution_count": null,
      "outputs": []
    },
    {
      "cell_type": "code",
      "source": [],
      "metadata": {
        "id": "BFX-Vhi1xkPz"
      },
      "execution_count": null,
      "outputs": []
    },
    {
      "cell_type": "code",
      "source": [
        "my_tuple = (\"apple\", \"banana\", \"cherry\")\n",
        "print(\"Tuple:\", my_tuple)\n",
        "my_list = list(my_tuple)\n",
        "print(\"List:\", tup(my_list))\n",
        "t = (1, 2, 3)\n",
        "print(t[2])\n",
        "print(t[-1])"
      ],
      "metadata": {
        "id": "ZXvCbXNIxHVi"
      },
      "execution_count": null,
      "outputs": []
    },
    {
      "cell_type": "code",
      "source": [],
      "metadata": {
        "id": "sngbPe4DxXU9"
      },
      "execution_count": null,
      "outputs": []
    },
    {
      "cell_type": "code",
      "source": [
        "# Create two tuples and add them\n",
        "t1 = (1, 2, 3)\n",
        "t2 = (4, 5, 6)\n",
        "result = t1 + t2\n",
        "print(\"Added tuple:\", result) # (1, 2, 3, 4, 5, 6)\n",
        "# Create a tuple and multiply it 3 times\n",
        "t3 = (\"apple\", \"banana\")\n",
        "result = t3 * 3\n",
        "print(\"Multiplied tuple:\", result) # ('apple', 'banana', 'apple', 'banana', 'apple', 'banana')\n",
        "\n",
        "t = (1, 2, 3)\n",
        "print(2 in t)     # True\n",
        "print(5 not in t) # True\n",
        "\n",
        "# Find length of a tuple\n",
        "length = len(t)\n",
        "print(\"Length of tuple:\", length) # 3\n",
        "# Count number of 2s and find index of first 2\n",
        "t = (1, 2, 3, 2, 4, 2)\n",
        "count_2 = t.count(2)\n",
        "print(\"Number of 2s in t:\", count_2) # 3\n",
        "index_2 = t.index(2)\n",
        "print(\"Index of first 2 in t:\", index_2) # 1"
      ],
      "metadata": {
        "id": "O07VBMNbwuid"
      },
      "execution_count": null,
      "outputs": []
    },
    {
      "cell_type": "code",
      "source": [
        "# dictionary\n",
        "\n",
        "# key: value pair\n",
        "\n",
        "\n",
        "student = {\n",
        "    \"name\": [\"AK\",\"BK\"],\n",
        "    \"age\": 7,\n",
        "    \"grade\": 2,\n",
        "    123: \"roll no\"\n",
        "}\n",
        "print(student)\n",
        "print(type(student))\n",
        "print(student[\"age\"])"
      ],
      "metadata": {
        "id": "uL6bLM9tw_fT"
      },
      "execution_count": null,
      "outputs": []
    },
    {
      "cell_type": "code",
      "source": [
        "# create a dictionary which contains five key-value pairs, you can create value of any datatype\n",
        "\n",
        "# create a dictionary which contains five key-value pairs, you can create value of any datatype\n",
        "st = {\n",
        "\"name\": \"Alice\",\n",
        "\"age\": 30,\n",
        "\"is_student\": False,\n",
        "\"grades\": [95, 88, 92],\n",
        "\"address\": {\"street\": \"123 Main St\", \"city\": \"Anytown\"}\n",
        "}\n",
        "print(st)\n",
        "print(type(st))"
      ],
      "metadata": {
        "id": "tnozXRlIy8Dt"
      },
      "execution_count": null,
      "outputs": []
    },
    {
      "cell_type": "code",
      "source": [
        "# in st add a new key-cvalue pari gender --> female\n",
        "\n",
        "st['gender']= 'female'\n",
        "print(st)"
      ],
      "metadata": {
        "id": "cF5J7THH02zA"
      },
      "execution_count": null,
      "outputs": []
    },
    {
      "cell_type": "code",
      "source": [
        "# delete is_student from st\n",
        "del st[\"is_student\"]\n",
        "st"
      ],
      "metadata": {
        "id": "u_7P0ran1FfW"
      },
      "execution_count": null,
      "outputs": []
    },
    {
      "cell_type": "code",
      "source": [
        "# print all the keys in the dictionary\n",
        "st.pop(\"name\")"
      ],
      "metadata": {
        "id": "O9MCRIs41zh6"
      },
      "execution_count": null,
      "outputs": []
    },
    {
      "cell_type": "code",
      "source": [
        "print(st)"
      ],
      "metadata": {
        "id": "yQxdqx7P2QG6"
      },
      "execution_count": null,
      "outputs": []
    },
    {
      "cell_type": "code",
      "metadata": {
        "id": "73bdd068"
      },
      "source": [
        "# print all the keys in the dictionary\n",
        "print(st.keys())"
      ],
      "execution_count": null,
      "outputs": []
    },
    {
      "cell_type": "code",
      "source": [
        "print(st.values())"
      ],
      "metadata": {
        "id": "s6oJN13w19y4"
      },
      "execution_count": null,
      "outputs": []
    },
    {
      "cell_type": "code",
      "source": [
        "print(st.items())"
      ],
      "metadata": {
        "id": "2mVNBhL72Aqt"
      },
      "execution_count": null,
      "outputs": []
    },
    {
      "cell_type": "code",
      "source": [
        "# create two dictionaries a and b , merge them\n",
        "\n",
        "# Create two dictionaries\n",
        "dict1 = {\"a\": 1, \"b\": 2}\n",
        "dict2 = {\"c\": 3, \"d\": 4}\n",
        "# Merge the two dictionaries using the update() method\n",
        "dict1.update(dict2)\n",
        "# Display the merged dictionary\n",
        "print(\"Merged dictionary using update():\", dict1)\n",
        "# Create two`b new dictionaries for demonstration with the unpacking operator\n",
        "dict3 = {\"e\": 5, \"f\": 6}\n",
        "dict4 = {\"g\": 7, \"h\": 8}\n",
        "# Merge the two dictionaries using the ** unpacking operator (Python 3.5+)\n",
        "merged_dict_unpacking = {**dict3, **dict4}\n",
        "# Display the merged dictionary\n",
        "print(\"Merged dictionary using unpacking operator:\", merged_dict_unpacking)"
      ],
      "metadata": {
        "id": "6RadyCD82InE"
      },
      "execution_count": null,
      "outputs": []
    },
    {
      "cell_type": "code",
      "source": [
        "# prompt: create an example of nested dictionary\n",
        "\n",
        "student = {\n",
        "    \"name\": \"Alice\",\n",
        "    \"contact\": {\n",
        "        \"email\": \"alice@example.com\",\n",
        "        \"phone\": \"123-456-7890\"\n",
        "    },\n",
        "    \"courses\": [\"Math\", \"Science\", \"History\"]\n",
        "}\n",
        "\n",
        "print(student)\n",
        "print(student[\"contact\"][\"email\"])\n"
      ],
      "metadata": {
        "id": "eH6m8A5h3j_q"
      },
      "execution_count": null,
      "outputs": []
    },
    {
      "cell_type": "code",
      "source": [
        "# Set\n",
        "\n",
        "s = {5,5,6,1,2,3,3,3,4}\n",
        "\n",
        "print(s)"
      ],
      "metadata": {
        "id": "JsF1gX7u32Uu"
      },
      "execution_count": null,
      "outputs": []
    },
    {
      "cell_type": "code",
      "source": [
        "s = [5,5,6,1,2,3,3,3,4]\n",
        "print(s)\n",
        "my_list = [5, 5, 6, 1, 2, 3, 3, 3, 4]\n",
        "my_set = set(my_list)\n",
        "print(\"List converted to set:\", my_set)"
      ],
      "metadata": {
        "id": "SJPIhWjC4kXb"
      },
      "execution_count": null,
      "outputs": []
    },
    {
      "cell_type": "code",
      "source": [
        "# whether set is mutable or immutable type\n",
        "my_list = [1, 2, 2, 3, 4, 4, 5]\n",
        "print(\"Original List:\", my_list)\n",
        "my_set = set(my_list)\n",
        "print(\"Converted Set:\", my_set)\n",
        "\n",
        "my_set.add(7)\n",
        "print(my_set)\n",
        "# can we do this tuple ?\n",
        "\n"
      ],
      "metadata": {
        "id": "-Vwt8w1S5ZyM"
      },
      "execution_count": null,
      "outputs": []
    },
    {
      "cell_type": "code",
      "source": [
        "# 09:23---> 09:43 --> working break -->\n",
        "1. Assign the integer 42 to a variable and print its type.\n",
        "2. Divide 7 by 3 and print the result and its data type.\n",
        "3. Convert the float 8.75 to an integer and print it.\n",
        "4. Multiply an int and a float (e.g., 5 * 2.5) and print the result and type.\n",
        "5. Use type casting to add string '4' and integer 3, then print the result.\n",
        "6. Create a string 'HelloWorld' and print only 'World' using slicing.\n",
        "7. Convert the string 'PYTHON' to lowercase and print it.\n",
        "8. Check if the string 'data' exists in 'data science' and print the result.\n",
        "9. Concatenate the strings 'Data' and 'Type' with a space in between.\n",
        "10. Print the length of the string 'Boolean'.\n",
        "11. Assign True to a variable and print its type.\n",
        "12. Evaluate the expression (10 > 2) and (3 == 4) and print the result.\n",
        "13. Assign None to a variable and check if it equals 0.\n",
        "14. Print the result of bool('') and bool('Python').\n",
        "15. Compare float(3.0) == int(3) and print the result.\n",
        "16. Create a list of numbers [1, 2, 3] and append 4 to it. Print the list.\n",
        "17. Print the first and last element from the list [10, 20, 30, 40].\n",
        "18. Replace the second element of the list ['a', 'b', 'c'] with 'z'.\n",
        "19. Create a tuple (1, 2, 3). Try changing its second element and observe the error.\n",
        "20. Create a dictionary {'a': 1, 'b': 2}. Add a new key 'c' with value 3 and print the dictionary.\n"
      ],
      "metadata": {
        "id": "F9_drYXp6p5C"
      },
      "execution_count": null,
      "outputs": []
    },
    {
      "cell_type": "code",
      "source": [
        "# new to python coding, coding after python\n",
        "\n",
        "# what is a function\n",
        "\n",
        "#A function is a block of reusable code that performs a specific task.\n",
        "#Functions help you write clean, modular, and DRY (Don't Repeat Yourself) code.\n",
        "\n",
        "\n",
        "def function_name(parameters):\n",
        "  #code block\n",
        "  return result"
      ],
      "metadata": {
        "id": "O2zViRq7ASIY"
      },
      "execution_count": null,
      "outputs": []
    },
    {
      "cell_type": "code",
      "source": [
        "def greet(student_name):\n",
        "  print(\"Welcome to the class, \"+ student_name)"
      ],
      "metadata": {
        "id": "T-jKnFueA6Zw"
      },
      "execution_count": null,
      "outputs": []
    },
    {
      "cell_type": "code",
      "source": [
        "greet(\"AK\")\n",
        "greet(\"BK\")\n",
        "greet(\"CK\")"
      ],
      "metadata": {
        "id": "4kZvOmOqBHtF"
      },
      "execution_count": null,
      "outputs": []
    },
    {
      "cell_type": "code",
      "source": [
        "# for this one--> genai\n",
        "\n",
        "# create a function which takes three numbers and returns the multiplication, addition of the three.\n",
        "#09:53--> 09:56\n",
        "\n",
        "def sum3(a=0,b=0,c=0):\n",
        "  sum3 = a+b+c\n",
        "  return(sum3)"
      ],
      "metadata": {
        "id": "1CZuV43HBUOV"
      },
      "execution_count": null,
      "outputs": []
    },
    {
      "cell_type": "code",
      "source": [
        "a= sum3(3,24,3)\n",
        "print(a)"
      ],
      "metadata": {
        "id": "XuWi5OYyC0EC"
      },
      "execution_count": null,
      "outputs": []
    },
    {
      "cell_type": "code",
      "source": [
        "sum3(1,1)"
      ],
      "metadata": {
        "id": "V__mgZ4xDMUI"
      },
      "execution_count": null,
      "outputs": []
    },
    {
      "cell_type": "code",
      "source": [
        "# create a function that returns the square of the number.\n",
        "def square(num=0):\n",
        "  return num ** 2\n",
        "\n",
        "\n",
        "result = square()\n",
        "print(\"Square:\", result)\n",
        "\n",
        "Square: 25"
      ],
      "metadata": {
        "id": "SgWpXi8PDijw"
      },
      "execution_count": null,
      "outputs": []
    },
    {
      "cell_type": "code",
      "source": [
        "def student(name, grade):\n",
        "    print(f\"{name} scored {grade}\")\n",
        "\n",
        "student(grade=\"A\", name=\"Ravi\")\n"
      ],
      "metadata": {
        "id": "Jxqr--H-EhLy"
      },
      "execution_count": null,
      "outputs": []
    },
    {
      "cell_type": "code",
      "source": [
        "# create a functioon which takes a name and a message and prints them\n",
        "\n",
        "def greet(name, message):\n",
        "  print(f\"Hello {name}, {message}\")\n",
        "# Example usage:\n",
        "greet(message = \"hope you're having a great day!\",name = \"Alice\")"
      ],
      "metadata": {
        "id": "ies2egcLEzhR"
      },
      "execution_count": null,
      "outputs": []
    },
    {
      "cell_type": "code",
      "source": [
        "# multiple keyword arguments\n",
        "\n",
        "def sum_all(*args):\n",
        "  return sum(args)\n",
        "\n",
        "sum_all(1,2,5)\n",
        "\n",
        "# you have a dictionary that goes as an input and you need to print all the key value pairs"
      ],
      "metadata": {
        "id": "rlVYm7o3Fyz1"
      },
      "execution_count": null,
      "outputs": []
    },
    {
      "cell_type": "code",
      "source": [
        "# prompt: # you have a dictionary that goes as an input and you need to print all the key value pairs\n",
        "\n",
        "def print_dict_items(input_dict):\n",
        "  \"\"\"\n",
        "  Prints all key-value pairs from a dictionary.\n",
        "\n",
        "  Args:\n",
        "    input_dict: The dictionary to print.\n",
        "  \"\"\"\n",
        "  for key, value in input_dict.items():\n",
        "    print(f\"{key}: {value}\")\n",
        "\n",
        "# Example usage:\n",
        "my_dictionary = {\n",
        "    \"apple\": 1,\n",
        "    \"banana\": 2,\n",
        "    \"cherry\": 3\n",
        "}\n",
        "\n",
        "print_dict_items(my_dictionary)"
      ],
      "metadata": {
        "id": "OPel3WEaG5HD"
      },
      "execution_count": null,
      "outputs": []
    },
    {
      "cell_type": "code",
      "source": [
        "def print_details(**kwargs):\n",
        "    for key, value in kwargs.items():\n",
        "        print(key, \":\", value)\n",
        "\n",
        "print_details(name=\"Ricky\", age=7)"
      ],
      "metadata": {
        "id": "55wJ_Wa1HCP9"
      },
      "execution_count": null,
      "outputs": []
    },
    {
      "cell_type": "code",
      "source": [
        "# scope of variables\n",
        "\n",
        "# local scope\n",
        "def demo():\n",
        "  x = 5\n",
        "  print(x)\n",
        "\n",
        "\n",
        "demo()\n",
        "print(x)"
      ],
      "metadata": {
        "id": "khiNMLtmHZoo"
      },
      "execution_count": null,
      "outputs": []
    },
    {
      "cell_type": "code",
      "source": [
        "# global scope\n",
        "\n",
        "x = 10\n",
        "\n",
        "def show():\n",
        "  print(x)\n",
        "\n",
        "show()\n",
        "x"
      ],
      "metadata": {
        "id": "i83hsXjDHrBY"
      },
      "execution_count": null,
      "outputs": []
    },
    {
      "cell_type": "code",
      "source": [
        "Write a function to calculate the square of a number.\n",
        "\n",
        "Write a function that returns True if a number is even.\n",
        "\n",
        "Write a function that accepts a name and prints a welcome message.\n",
        "\n",
        "Write a function to return the maximum of 3 numbers.\n",
        "\n",
        "Write a function to reverse a string.\n",
        "\n",
        "Write a function to check if a number is prime.\n",
        "\n",
        "Write a recursive function to calculate the factorial of a number.\n",
        "\n",
        "Write a function that accepts a list of numbers and returns their average.\n",
        "\n",
        "Write a lambda function to add two numbers.\n",
        "\n",
        "Write a function that accepts any number of arguments and returns their sum."
      ],
      "metadata": {
        "id": "9To3ly_VIYUz"
      },
      "execution_count": null,
      "outputs": []
    },
    {
      "cell_type": "code",
      "source": [
        "#  ML AI GENAI LLMS MLOPS LLMOPS --> after the next weekend\n",
        "# Agentic AI --> operationalize ---> in todays' --> coding -->\n",
        "\n",
        "# next two sessions\n",
        "\n",
        "# conditional statements if else # Are we going to cover file hanling and exceptionl handling ?\n",
        "# loops : for while\n",
        "# config files\n",
        "# environments\n",
        "\n",
        "# MLOPS --> object oriented programming -->\n",
        "# fortune 500--. the value of time--> invest into upgrading --> effort/ motivation\n",
        "#"
      ],
      "metadata": {
        "id": "ybkgVHZzH389"
      },
      "execution_count": null,
      "outputs": []
    },
    {
      "cell_type": "code",
      "source": [
        "# agenda for todays sessioN: Python classes ---> conditional statements, loops\n",
        "\n",
        "# conditional statements\n",
        "\n",
        "if condition:\n",
        "  # code block\n",
        "# indentation matter\n",
        "# condition--> True or False\n",
        "\n"
      ],
      "metadata": {
        "id": "MPBPnR_ujY2r"
      },
      "execution_count": null,
      "outputs": []
    },
    {
      "cell_type": "code",
      "source": [
        "x = -2\n",
        "if x>0:\n",
        "  print(\"positive\")"
      ],
      "metadata": {
        "id": "zhef5rGKkJhC"
      },
      "execution_count": null,
      "outputs": []
    },
    {
      "cell_type": "code",
      "source": [
        "# create a code block if x >45 print pass"
      ],
      "metadata": {
        "id": "hULNuuh2kwrx"
      },
      "execution_count": null,
      "outputs": []
    }
  ]
}